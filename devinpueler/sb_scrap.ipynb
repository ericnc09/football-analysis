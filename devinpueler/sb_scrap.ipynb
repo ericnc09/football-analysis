{
 "cells": [
  {
   "cell_type": "code",
   "execution_count": 1,
   "id": "714c48ea",
   "metadata": {},
   "outputs": [],
   "source": [
    "import requests\n",
    "import pandas as pd\n",
    "from tqdm import tqdm"
   ]
  },
  {
   "cell_type": "code",
   "execution_count": 2,
   "id": "f3ba0e69",
   "metadata": {},
   "outputs": [],
   "source": [
    "base_url = \"https://raw.githubusercontent.com/statsbomb/open-data/master/data/\"\n",
    "comp_url = base_url + \"matches/{}/{}.json\"\n",
    "match_url = base_url + \"events/{}.json\""
   ]
  },
  {
   "cell_type": "code",
   "execution_count": 3,
   "id": "b04dadee",
   "metadata": {},
   "outputs": [],
   "source": [
    "def parse_data(competition_id, season_id):\n",
    "    matches = requests.get(url=comp_url.format(competition_id, season_id)).json()\n",
    "    match_ids = [m['match_id'] for m in matches]\n",
    "\n",
    "    all_events = []\n",
    "    for match_id in tqdm(match_ids):\n",
    "\n",
    "        events = requests.get(url=match_url.format(match_id)).json()\n",
    "\n",
    "        shots = [x for x in events if x['type']['name'] == \"Shot\"]\n",
    "        for s in shots:\n",
    "            attributes = {\n",
    "                \"match_id\": match_id,\n",
    "                \"team\": s[\"possession_team\"][\"name\"],\n",
    "                \"player\": s['player']['name'],\n",
    "                \"x\": s['location'][0],\n",
    "                \"y\": s['location'][1],\n",
    "                \"outcome\": s['shot']['outcome']['name'],\n",
    "            }\n",
    "            all_events.append(attributes)\n",
    "            \n",
    "    return pd.DataFrame(all_events)"
   ]
  },
  {
   "cell_type": "code",
   "execution_count": 4,
   "id": "e1e7b204",
   "metadata": {},
   "outputs": [],
   "source": [
    "competition_id = 43\n",
    "season_id = 3"
   ]
  },
  {
   "cell_type": "code",
   "execution_count": 5,
   "id": "e9102114",
   "metadata": {},
   "outputs": [
    {
     "name": "stderr",
     "output_type": "stream",
     "text": [
      "100%|███████████████████████████████████████████| 64/64 [00:36<00:00,  1.75it/s]\n"
     ]
    }
   ],
   "source": [
    "df = parse_data(competition_id, season_id)"
   ]
  },
  {
   "cell_type": "code",
   "execution_count": 9,
   "id": "ad394bfe",
   "metadata": {},
   "outputs": [
    {
     "data": {
      "text/html": [
       "<div>\n",
       "<style scoped>\n",
       "    .dataframe tbody tr th:only-of-type {\n",
       "        vertical-align: middle;\n",
       "    }\n",
       "\n",
       "    .dataframe tbody tr th {\n",
       "        vertical-align: top;\n",
       "    }\n",
       "\n",
       "    .dataframe thead th {\n",
       "        text-align: right;\n",
       "    }\n",
       "</style>\n",
       "<table border=\"1\" class=\"dataframe\">\n",
       "  <thead>\n",
       "    <tr style=\"text-align: right;\">\n",
       "      <th></th>\n",
       "      <th>match_id</th>\n",
       "      <th>team</th>\n",
       "      <th>player</th>\n",
       "      <th>x</th>\n",
       "      <th>y</th>\n",
       "      <th>outcome</th>\n",
       "    </tr>\n",
       "  </thead>\n",
       "  <tbody>\n",
       "    <tr>\n",
       "      <th>0</th>\n",
       "      <td>7578</td>\n",
       "      <td>Uruguay</td>\n",
       "      <td>Edinson Roberto Cavani Gómez</td>\n",
       "      <td>97.0</td>\n",
       "      <td>32.0</td>\n",
       "      <td>Saved</td>\n",
       "    </tr>\n",
       "    <tr>\n",
       "      <th>1</th>\n",
       "      <td>7578</td>\n",
       "      <td>Egypt</td>\n",
       "      <td>Mahmoud Ibrahim Hassan</td>\n",
       "      <td>108.0</td>\n",
       "      <td>51.0</td>\n",
       "      <td>Saved</td>\n",
       "    </tr>\n",
       "    <tr>\n",
       "      <th>2</th>\n",
       "      <td>7578</td>\n",
       "      <td>Uruguay</td>\n",
       "      <td>Luis Alberto Suárez Díaz</td>\n",
       "      <td>109.0</td>\n",
       "      <td>55.0</td>\n",
       "      <td>Off T</td>\n",
       "    </tr>\n",
       "    <tr>\n",
       "      <th>3</th>\n",
       "      <td>7578</td>\n",
       "      <td>Uruguay</td>\n",
       "      <td>Edinson Roberto Cavani Gómez</td>\n",
       "      <td>102.0</td>\n",
       "      <td>23.0</td>\n",
       "      <td>Blocked</td>\n",
       "    </tr>\n",
       "    <tr>\n",
       "      <th>4</th>\n",
       "      <td>7578</td>\n",
       "      <td>Uruguay</td>\n",
       "      <td>José Martín Cáceres Silva</td>\n",
       "      <td>114.0</td>\n",
       "      <td>48.0</td>\n",
       "      <td>Wayward</td>\n",
       "    </tr>\n",
       "    <tr>\n",
       "      <th>5</th>\n",
       "      <td>7578</td>\n",
       "      <td>Uruguay</td>\n",
       "      <td>Luis Alberto Suárez Díaz</td>\n",
       "      <td>116.0</td>\n",
       "      <td>35.0</td>\n",
       "      <td>Off T</td>\n",
       "    </tr>\n",
       "    <tr>\n",
       "      <th>6</th>\n",
       "      <td>7578</td>\n",
       "      <td>Egypt</td>\n",
       "      <td>Marwan Mohsen</td>\n",
       "      <td>100.0</td>\n",
       "      <td>51.0</td>\n",
       "      <td>Saved</td>\n",
       "    </tr>\n",
       "    <tr>\n",
       "      <th>7</th>\n",
       "      <td>7578</td>\n",
       "      <td>Uruguay</td>\n",
       "      <td>Matías Vecino Falero</td>\n",
       "      <td>83.0</td>\n",
       "      <td>53.0</td>\n",
       "      <td>Off T</td>\n",
       "    </tr>\n",
       "    <tr>\n",
       "      <th>8</th>\n",
       "      <td>7578</td>\n",
       "      <td>Uruguay</td>\n",
       "      <td>Luis Alberto Suárez Díaz</td>\n",
       "      <td>88.0</td>\n",
       "      <td>38.0</td>\n",
       "      <td>Blocked</td>\n",
       "    </tr>\n",
       "    <tr>\n",
       "      <th>9</th>\n",
       "      <td>7578</td>\n",
       "      <td>Egypt</td>\n",
       "      <td>Abdalla Mahmoud El Said Bekhit</td>\n",
       "      <td>105.0</td>\n",
       "      <td>48.0</td>\n",
       "      <td>Wayward</td>\n",
       "    </tr>\n",
       "  </tbody>\n",
       "</table>\n",
       "</div>"
      ],
      "text/plain": [
       "   match_id     team                          player      x     y  outcome\n",
       "0      7578  Uruguay    Edinson Roberto Cavani Gómez   97.0  32.0    Saved\n",
       "1      7578    Egypt          Mahmoud Ibrahim Hassan  108.0  51.0    Saved\n",
       "2      7578  Uruguay        Luis Alberto Suárez Díaz  109.0  55.0    Off T\n",
       "3      7578  Uruguay    Edinson Roberto Cavani Gómez  102.0  23.0  Blocked\n",
       "4      7578  Uruguay       José Martín Cáceres Silva  114.0  48.0  Wayward\n",
       "5      7578  Uruguay        Luis Alberto Suárez Díaz  116.0  35.0    Off T\n",
       "6      7578    Egypt                   Marwan Mohsen  100.0  51.0    Saved\n",
       "7      7578  Uruguay            Matías Vecino Falero   83.0  53.0    Off T\n",
       "8      7578  Uruguay        Luis Alberto Suárez Díaz   88.0  38.0  Blocked\n",
       "9      7578    Egypt  Abdalla Mahmoud El Said Bekhit  105.0  48.0  Wayward"
      ]
     },
     "execution_count": 9,
     "metadata": {},
     "output_type": "execute_result"
    }
   ],
   "source": [
    "df.head(10)"
   ]
  },
  {
   "cell_type": "markdown",
   "id": "d01f36cd",
   "metadata": {},
   "source": [
    "Data scrap ends here. Afterwards you can use this data frame to do stuff."
   ]
  },
  {
   "cell_type": "code",
   "execution_count": 11,
   "id": "26bc04c7",
   "metadata": {},
   "outputs": [],
   "source": []
  },
  {
   "cell_type": "code",
   "execution_count": null,
   "id": "14a1a3ac",
   "metadata": {},
   "outputs": [],
   "source": []
  }
 ],
 "metadata": {
  "kernelspec": {
   "display_name": "Python 3 (ipykernel)",
   "language": "python",
   "name": "python3"
  },
  "language_info": {
   "codemirror_mode": {
    "name": "ipython",
    "version": 3
   },
   "file_extension": ".py",
   "mimetype": "text/x-python",
   "name": "python",
   "nbconvert_exporter": "python",
   "pygments_lexer": "ipython3",
   "version": "3.10.0"
  }
 },
 "nbformat": 4,
 "nbformat_minor": 5
}
